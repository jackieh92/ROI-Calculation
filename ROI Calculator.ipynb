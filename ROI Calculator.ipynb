{
 "cells": [
  {
   "cell_type": "code",
   "execution_count": null,
   "metadata": {},
   "outputs": [],
   "source": [
    "class Should_i():\n",
    "    def __init__ (self, monthly_expenses, monthly_income):\n",
    "        self.monthly_expenses = monthly_expenses\n",
    "        self.monthly_income = monthly_income\n",
    "    \n",
    "    \n",
    "    def monthlyincome(self):\n",
    "        self.monthly_income = float(input(\"\\n * What is your total monthly income? \\n\"))\n",
    "        return self.monthly_income\n",
    "    \n",
    "    \n",
    "    def monthlyexpenses(self):\n",
    "        self.monthly_expenses = float(input(\"\\n * What is your total monthly expenditure? \\n\"))\n",
    "        return self.monthly_expenses\n",
    "    \n",
    "    \n",
    "    def cashflow(self):\n",
    "        self.cashflow = (self.monthly_income * 12) - (self.monthly_expenses * 12)\n",
    "        return self.cashflow\n",
    "    \n",
    "    \n",
    "    def roi(self):\n",
    "        total_investment = float(input(\"\\n * Please enter total investment. \\n\"))\n",
    "        self.roi = self.cashflow / total_investment * 100 \n",
    "        print(f\"\\n* This property's ROI is expected to be: {round(self.roi,2)}%.  To gauge whether this is a good investment click this link here: https://www.youtube.com/watch?time_continue=1182&v=T_7vhsSBi7c&feature=emb_title\\n\")\n",
    "\n",
    "\n",
    "def calculate():\n",
    "    property1 = Should_i(input,input)\n",
    "    while True:\n",
    "        firstinput = input(\"\\n* What would you like to do: Calculate ROI: enter ROI | Calculate Cashflow: enter Cashflow | To Exit: enter exit\\n\")\n",
    "        if firstinput.lower() == \"roi\":\n",
    "            property1.monthlyincome()\n",
    "            property1.monthlyexpenses()\n",
    "            property1.cashflow()\n",
    "            property1.roi()\n",
    "        if firstinput.lower() == \"cashflow\":\n",
    "            property1.cashflow()\n",
    "        if firstinput.lower() == \"exit\":\n",
    "            break\n",
    "calculate()\n",
    " "
   ]
  },
  {
   "cell_type": "code",
   "execution_count": null,
   "metadata": {},
   "outputs": [],
   "source": []
  }
 ],
 "metadata": {
  "kernelspec": {
   "display_name": "Python 3",
   "language": "python",
   "name": "python3"
  },
  "language_info": {
   "codemirror_mode": {
    "name": "ipython",
    "version": 3
   },
   "file_extension": ".py",
   "mimetype": "text/x-python",
   "name": "python",
   "nbconvert_exporter": "python",
   "pygments_lexer": "ipython3",
   "version": "3.8.2"
  }
 },
 "nbformat": 4,
 "nbformat_minor": 4
}
