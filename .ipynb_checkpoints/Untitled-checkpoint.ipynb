{
 "cells": [
  {
   "cell_type": "code",
   "execution_count": 15,
   "metadata": {},
   "outputs": [
    {
     "name": "stdout",
     "output_type": "stream",
     "text": [
      "Welcome, what would you like to do? To calculate ROI enter roi.        If you would like to calculate your cashflow, please enter cashflow.  If you would        like to exit, enter exit.roi\n"
     ]
    },
    {
     "ename": "TypeError",
     "evalue": "'int' object is not callable",
     "output_type": "error",
     "traceback": [
      "\u001b[1;31m---------------------------------------------------------------------------\u001b[0m",
      "\u001b[1;31mTypeError\u001b[0m                                 Traceback (most recent call last)",
      "\u001b[1;32m<ipython-input-15-42ccc9224a42>\u001b[0m in \u001b[0;36m<module>\u001b[1;34m\u001b[0m\n\u001b[0;32m     53\u001b[0m             \u001b[1;32mbreak\u001b[0m\u001b[1;33m\u001b[0m\u001b[1;33m\u001b[0m\u001b[0m\n\u001b[0;32m     54\u001b[0m \u001b[1;33m\u001b[0m\u001b[0m\n\u001b[1;32m---> 55\u001b[1;33m \u001b[0mrun\u001b[0m\u001b[1;33m(\u001b[0m\u001b[1;33m)\u001b[0m\u001b[1;33m\u001b[0m\u001b[1;33m\u001b[0m\u001b[0m\n\u001b[0m",
      "\u001b[1;32m<ipython-input-15-42ccc9224a42>\u001b[0m in \u001b[0;36mrun\u001b[1;34m()\u001b[0m\n\u001b[0;32m     44\u001b[0m         like to exit, enter exit.\")\n\u001b[0;32m     45\u001b[0m         \u001b[1;32mif\u001b[0m \u001b[0mfirstinput\u001b[0m \u001b[1;33m==\u001b[0m \u001b[1;34m\"roi\"\u001b[0m \u001b[1;32mor\u001b[0m \u001b[0mfirstinput\u001b[0m \u001b[1;33m==\u001b[0m \u001b[1;34m\"Roi\"\u001b[0m \u001b[1;32mor\u001b[0m  \u001b[0mfirstinput\u001b[0m \u001b[1;33m==\u001b[0m \u001b[1;34m\"ROI\"\u001b[0m\u001b[1;33m:\u001b[0m\u001b[1;33m\u001b[0m\u001b[1;33m\u001b[0m\u001b[0m\n\u001b[1;32m---> 46\u001b[1;33m             \u001b[0mrenter\u001b[0m\u001b[1;33m.\u001b[0m\u001b[0mmonthlyincome\u001b[0m\u001b[1;33m(\u001b[0m\u001b[1;33m)\u001b[0m\u001b[1;33m\u001b[0m\u001b[1;33m\u001b[0m\u001b[0m\n\u001b[0m\u001b[0;32m     47\u001b[0m             \u001b[0mrenter\u001b[0m\u001b[1;33m.\u001b[0m\u001b[0mmonthlyexpenses\u001b[0m\u001b[1;33m(\u001b[0m\u001b[1;33m)\u001b[0m\u001b[1;33m\u001b[0m\u001b[1;33m\u001b[0m\u001b[0m\n\u001b[0;32m     48\u001b[0m             \u001b[0mrenter\u001b[0m\u001b[1;33m.\u001b[0m\u001b[0mannualcashflow\u001b[0m\u001b[1;33m(\u001b[0m\u001b[1;33m)\u001b[0m\u001b[1;33m\u001b[0m\u001b[1;33m\u001b[0m\u001b[0m\n",
      "\u001b[1;31mTypeError\u001b[0m: 'int' object is not callable"
     ]
    }
   ],
   "source": [
    "class Shouldi():\n",
    "    \n",
    "    def __init__ (self, monthlyexpenses, monthlyincome):\n",
    "        self.monthlyexpenses = monthlyexpenses\n",
    "        self.monthlyincome = monthlyincome\n",
    "    \n",
    "    # For simplicity if you cant get it to work with the math and parameter problem,\\\n",
    "    # Just ask for their annual income for the property\n",
    "    def monthlyincome(self):\n",
    "        self.monthlyincome = float(input(\"What is your TOTAL monthly income? \\\n",
    "        This includes: Rental income, Laundry income, storage income, etc.\\\n",
    "        Please only input numbers and do not include $ or , .\"))\n",
    "        annualincome = self.monthlyincome * 12\n",
    "        return annualincome\n",
    "    \n",
    "    # For simplicity if you cant get it to work with the math and parameter problem,\\\n",
    "    # Just ask for their annual expenses for the property\n",
    "    def monthlyexpenses(self):\n",
    "        self.monthlyexpenses = float(input(\"What is your total monthly expenditure?\\\n",
    "        This includes: Taxes, insurance, utilities, HOA, vacancy, repairs, morgage,\\\n",
    "        property management, etc. Remember, please input numbers and do not include $ or , .\"))\n",
    "        annualexpenses = self.monthlyexpenses * 12\n",
    "        return anualexpenses\n",
    "    \n",
    "    \n",
    "    def annualcashflow(self):\n",
    "        annualcashflow = self.monthlyincome -self.monthlyexpenses\n",
    "        # May not need the self before totalmonthlycashflow\n",
    "        return self.totalmonthlycashflow\n",
    "    \n",
    "    \n",
    "    def roi(self):\n",
    "        totalinvestment = float(input(\"Please enter total investment.  This includes:\\\n",
    "        Down payment, closing costs, repair money, misc., etc.\"))\n",
    "        # May not need the self before totalinvestment\n",
    "        annualcashflow = self.totalmonthlycashflow * 12\n",
    "        roipercent = annualcashflow % totalinvestment\n",
    "        return roipercent\n",
    "\n",
    "\n",
    "def run():\n",
    "    # Look in the archives for the classes classwork we have done and try to debug that way\n",
    "    renter = Shouldi(1610, 2000)   \n",
    "    while True:\n",
    "        firstinput = input(\"Welcome, what would you like to do? To calculate ROI enter roi.\\\n",
    "        If you would like to calculate your cashflow, please enter cashflow.  If you would\\\n",
    "        like to exit, enter exit.\")\n",
    "        if firstinput == \"roi\" or firstinput == \"Roi\" or  firstinput == \"ROI\":\n",
    "            renter.monthlyincome()\n",
    "            renter.monthlyexpenses()\n",
    "            renter.annualcashflow()\n",
    "            renter.roi()\n",
    "        if firstinput == \"cashflow\" or firstinput == \"cash flow\" or  firstinput == \"Cash Flow\":\n",
    "            renter.annualcashflow()\n",
    "        if firstinput == \"exit\" or firstinput == \"Exit\" or  firstinput == \"EXIT\":\n",
    "            break\n",
    "         \n",
    "run()          "
   ]
  }
 ],
 "metadata": {
  "kernelspec": {
   "display_name": "Python 3",
   "language": "python",
   "name": "python3"
  },
  "language_info": {
   "codemirror_mode": {
    "name": "ipython",
    "version": 3
   },
   "file_extension": ".py",
   "mimetype": "text/x-python",
   "name": "python",
   "nbconvert_exporter": "python",
   "pygments_lexer": "ipython3",
   "version": "3.8.2"
  }
 },
 "nbformat": 4,
 "nbformat_minor": 4
}
